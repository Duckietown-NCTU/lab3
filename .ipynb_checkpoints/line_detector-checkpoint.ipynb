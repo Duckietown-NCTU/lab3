{
 "cells": [
  {
   "cell_type": "markdown",
   "metadata": {},
   "source": [
    "# 4-2 Line Detectors"
   ]
  },
  {
   "cell_type": "markdown",
   "metadata": {},
   "source": [
    "### Import Packages"
   ]
  },
  {
   "cell_type": "code",
   "execution_count": null,
   "metadata": {
    "collapsed": true
   },
   "outputs": [],
   "source": [
    "import numpy as np\n",
    "import scipy as sp\n",
    "import cv2\n",
    "import time\n",
    "\n",
    "from matplotlib import pyplot as plt\n",
    "%matplotlib inline\n",
    "\n",
    "# set display defaults\n",
    "plt.rcParams['figure.figsize'] = (10, 10)        # large images\n",
    "plt.rcParams['image.interpolation'] = 'nearest'  # don't interpolate: show square pixels"
   ]
  },
  {
   "cell_type": "markdown",
   "metadata": {},
   "source": [
    "### Load the image and resize"
   ]
  },
  {
   "cell_type": "code",
   "execution_count": null,
   "metadata": {},
   "outputs": [],
   "source": [
    "import cv2\n",
    "import numpy as np\n",
    "from matplotlib import pyplot as plt\n",
    "\n",
    "#Use your own image\n",
    "img = cv2.imread(\"images/curve-right.jpg\")\n",
    "\n",
    "image_cv = cv2.resize(img, (160, 120),interpolation=cv2.INTER_NEAREST)\n",
    "\n",
    "dst1 = cv2.cvtColor(img,cv2.COLOR_BGR2RGB)\n",
    "#dst1 = img #if don't change color\n",
    "plt.subplot(121),plt.imshow(dst1,cmap = 'brg')\n",
    "plt.title('Original Image'), plt.xticks([]), plt.yticks([])\n",
    "\n",
    "dst2 = cv2.cvtColor(image_cv,cv2.COLOR_BGR2RGB)\n",
    "plt.subplot(122),plt.imshow(dst2,cmap = 'brg')\n",
    "plt.title('Resized Image'), plt.xticks([]), plt.yticks([])\n",
    "\n",
    "plt.show()"
   ]
  },
  {
   "cell_type": "markdown",
   "metadata": {},
   "source": [
    "### Find the Edges\n",
    "\n",
    "You should find the config file 'universal.yaml'"
   ]
  },
  {
   "cell_type": "code",
   "execution_count": null,
   "metadata": {},
   "outputs": [],
   "source": [
    "gray = cv2.cvtColor(image_cv,cv2.COLOR_BGR2GRAY)\n",
    "edges=cv2.Canny(gray,100,350)\n",
    "plt.imshow(edges,cmap = 'gray')\n",
    "plt.title('Edge Image'), plt.xticks([]), plt.yticks([])\n",
    "plt.show()"
   ]
  },
  {
   "cell_type": "markdown",
   "metadata": {},
   "source": [
    "### Try the Canny edge without resize"
   ]
  },
  {
   "cell_type": "code",
   "execution_count": null,
   "metadata": {
    "collapsed": true
   },
   "outputs": [],
   "source": [
    "#gray = cv2.cvtColor(img,cv2.COLOR_BGR2GRAY)\n",
    "#edges=cv2.Canny(gray,100,350)\n",
    "#plt.imshow(edges,cmap = 'gray')\n",
    "#plt.title('Edge Image'), plt.xticks([]), plt.yticks([])\n",
    "#plt.show()"
   ]
  },
  {
   "cell_type": "markdown",
   "metadata": {},
   "source": [
    "### Setup HSV Space Threshold\n",
    "Define what is \"white\" \"yellow\" \"red\"\n",
    "\n",
    "You should find the config file 'universal.yaml'"
   ]
  },
  {
   "cell_type": "code",
   "execution_count": null,
   "metadata": {
    "collapsed": true
   },
   "outputs": [],
   "source": [
    "hsv_white1 = np.array([0,0,150])\n",
    "hsv_white2 = np.array([180,100,255])\n",
    "hsv_yellow1 = np.array([25,50,50])\n",
    "hsv_yellow2 = np.array([45,255,255])\n",
    "hsv_red1 = np.array([0,100,100])\n",
    "hsv_red2 = np.array([15,255,255])\n",
    "hsv_red3 = np.array([165,100,100])\n",
    "hsv_red4 = np.array([180,255,255])"
   ]
  },
  {
   "cell_type": "markdown",
   "metadata": {},
   "source": [
    "### Threshold colors in HSV space"
   ]
  },
  {
   "cell_type": "code",
   "execution_count": null,
   "metadata": {},
   "outputs": [],
   "source": [
    "hsv = cv2.cvtColor(image_cv,cv2.COLOR_BGR2HSV)\n",
    "#print hsv\n",
    "white = cv2.inRange(hsv,hsv_white1,hsv_white2)\n",
    "#print white\n",
    "yellow = cv2.inRange(hsv,hsv_yellow1,hsv_yellow2)\n",
    "red1 = cv2.inRange(hsv,hsv_red1,hsv_red2)\n",
    "red2 = cv2.inRange(hsv,hsv_red3,hsv_red4)\n",
    "red = cv2.bitwise_or(red1,red2)\n",
    "kernel = cv2.getStructuringElement(cv2.MORPH_ELLIPSE,(3, 3))\n",
    "white = cv2.dilate(white, kernel)\n",
    "yellow = cv2.dilate(yellow, kernel)\n",
    "red = cv2.dilate(red, kernel)\n",
    "# Uncomment '#' to plot with color\n",
    "x = cv2.cvtColor(yellow, cv2.COLOR_GRAY2BGR)\n",
    "x[:,:,2] *= 1\n",
    "x[:,:,1] *= 1\n",
    "x[:,:,0] *= 0\n",
    "x = cv2.cvtColor(x, cv2.COLOR_BGR2RGB)\n",
    "\n",
    "y = cv2.cvtColor(red, cv2.COLOR_GRAY2BGR)\n",
    "y[:,:,2] *= 1\n",
    "y[:,:,1] *= 0\n",
    "y[:,:,0] *= 0\n",
    "y = cv2.cvtColor(y, cv2.COLOR_BGR2RGB)\n",
    "\n",
    "plt.subplot(131),plt.imshow(white,cmap = 'gray')\n",
    "plt.title('White'), plt.xticks([]), plt.yticks([])\n",
    "\n",
    "plt.subplot(132),plt.imshow(yellow,cmap = 'gray')\n",
    "#plt.subplot(132),plt.imshow(x,cmap = 'brg')\n",
    "plt.title('Yellow'), plt.xticks([]), plt.yticks([])\n",
    "\n",
    "plt.subplot(133),plt.imshow(red,cmap = 'gray')\n",
    "plt.subplot(133),plt.imshow(y,cmap = 'brg')\n",
    "plt.title('Red'), plt.xticks([]), plt.yticks([])\n",
    "\n",
    "\n",
    "\n",
    "plt.show()"
   ]
  },
  {
   "cell_type": "markdown",
   "metadata": {},
   "source": [
    "### Combine Edge and Colors"
   ]
  },
  {
   "cell_type": "code",
   "execution_count": null,
   "metadata": {
    "scrolled": true
   },
   "outputs": [],
   "source": [
    "edge_color_white=cv2.bitwise_and(edges,white)\n",
    "edge_color_yellow=cv2.bitwise_and(edges,yellow)\n",
    "edge_color_red=cv2.bitwise_and(edges,red)\n",
    "\n",
    "plt.imshow(edge_color_yellow,cmap = 'gray')\n",
    "plt.title('Edge Color Y'), plt.xticks([]), plt.yticks([])\n",
    "plt.subplot(131),plt.imshow(edge_color_white,cmap = 'gray')\n",
    "plt.title('Edge Color W'), plt.xticks([]), plt.yticks([])\n",
    "plt.subplot(132),plt.imshow(edge_color_yellow,cmap = 'gray')\n",
    "plt.title('Edge Color Y'), plt.xticks([]), plt.yticks([])\n",
    "plt.subplot(133),plt.imshow(edge_color_red,cmap = 'gray')\n",
    "plt.title('Edge Color R'), plt.xticks([]), plt.yticks([])\n",
    "\n",
    "plt.show()"
   ]
  },
  {
   "cell_type": "markdown",
   "metadata": {},
   "source": [
    "### Find the Lines"
   ]
  },
  {
   "cell_type": "code",
   "execution_count": null,
   "metadata": {},
   "outputs": [],
   "source": [
    "lines_white = cv2.HoughLinesP(edge_color_white,1,np.pi/180,10,np.empty(1),1.5,1)\n",
    "lines_yellow = cv2.HoughLinesP(edge_color_yellow,1,np.pi/180,10,np.empty(1),1.5,1)\n",
    "lines_red = cv2.HoughLinesP(edge_color_red,1,np.pi/180,10,np.empty(1),1.5,1)\n",
    "\n",
    "color = \"yellow\"\n",
    "lines = lines_yellow\n",
    "bw = yellow\n",
    "\n",
    "#color = \"white\"\n",
    "#lines = lines_white\n",
    "#bw = white\n",
    "\n",
    "#color = \"red\"\n",
    "#lines = lines_red\n",
    "#bw = red\n",
    "\n",
    "if lines is not None:\n",
    "    lines = np.array(lines[0])\n",
    "    print \"found lines\"\n",
    "\n",
    "else:\n",
    "    lines = []\n",
    "    print \"no lines\""
   ]
  },
  {
   "cell_type": "markdown",
   "metadata": {},
   "source": [
    "## What if the input is lines_white? lines_red? "
   ]
  },
  {
   "cell_type": "markdown",
   "metadata": {},
   "source": [
    "### Show the lines (yellow)"
   ]
  },
  {
   "cell_type": "code",
   "execution_count": null,
   "metadata": {},
   "outputs": [],
   "source": [
    "image_with_lines = np.copy(dst2)\n",
    "if len(lines)>0:\n",
    "    for x1,y1,x2,y2 in lines:\n",
    "        cv2.line(image_with_lines, (x1,y1), (x2,y2), (0,0,255), 2)\n",
    "        cv2.circle(image_with_lines, (x1,y1), 2, (0,255,0))\n",
    "        cv2.circle(image_with_lines, (x2,y2), 2, (255,0,0))\n",
    "        \n",
    "plt.imshow(image_with_lines,cmap = 'brg')\n",
    "plt.title('Line Image'), plt.xticks([]), plt.yticks([])\n",
    "plt.show()"
   ]
  },
  {
   "cell_type": "code",
   "execution_count": null,
   "metadata": {},
   "outputs": [],
   "source": [
    "image_with_lines = np.copy(dst2)\n",
    "if len(lines)>0:\n",
    "    for x1,y1,x2,y2 in lines:\n",
    "        cv2.line(image_with_lines, (x1,y1), (x2,y2), (0,0,255), 2)\n",
    "        cv2.circle(image_with_lines, (x1,y1), 2, (0,255,0))\n",
    "        cv2.circle(image_with_lines, (x2,y2), 2, (255,0,0))\n",
    "        \n",
    "plt.imshow(image_with_lines,cmap = 'brg')\n",
    "plt.title('Line Image'), plt.xticks([]), plt.yticks([])\n",
    "plt.show()"
   ]
  },
  {
   "cell_type": "markdown",
   "metadata": {},
   "source": [
    "### Discussion : What is the cons of this line detector? "
   ]
  },
  {
   "cell_type": "markdown",
   "metadata": {},
   "source": [
    "## More Examples about Canny Edge Detector "
   ]
  },
  {
   "cell_type": "code",
   "execution_count": null,
   "metadata": {},
   "outputs": [],
   "source": [
    "import cv2\n",
    "import numpy as np\n",
    "from matplotlib import pyplot as plt\n",
    "%matplotlib inline\n",
    "\n",
    "img = cv2.imread('images/duckietown.jpg',0)\n",
    "edges = cv2.Canny(img,100,200)\n",
    "\n",
    "#img1 = cv2.cvtColor(img, cv2.COLOR_BGR2RGB)\n",
    "plt.subplot(121),plt.imshow(img, cmap = 'gray')\n",
    "plt.title('Original Image'), plt.xticks([]), plt.yticks([])\n",
    "plt.subplot(122),plt.imshow(edges,cmap = 'gray')\n",
    "plt.title('Edge Image'), plt.xticks([]), plt.yticks([])\n",
    "\n",
    "plt.show()"
   ]
  },
  {
   "cell_type": "code",
   "execution_count": null,
   "metadata": {},
   "outputs": [],
   "source": [
    "img = cv2.imread('images/line.jpg',0)\n",
    "edges = cv2.Canny(img,50, 100)\n",
    "\n",
    "plt.subplot(121),plt.imshow(img, cmap = 'gray')\n",
    "plt.title('Original Image'), plt.xticks([]), plt.yticks([])\n",
    "plt.subplot(122),plt.imshow(edges,cmap = 'gray')\n",
    "plt.title('Edge Image'), plt.xticks([]), plt.yticks([])\n",
    "\n",
    "plt.show()"
   ]
  },
  {
   "cell_type": "code",
   "execution_count": null,
   "metadata": {},
   "outputs": [],
   "source": [
    "img = cv2.imread('images/lena.bmp',0)\n",
    "edges = cv2.Canny(img,100, 200)\n",
    "\n",
    "plt.subplot(121),plt.imshow(img, cmap = 'gray')\n",
    "plt.title('Original Image'), plt.xticks([]), plt.yticks([])\n",
    "plt.subplot(122),plt.imshow(edges,cmap = 'gray')\n",
    "plt.title('Edge Image'), plt.xticks([]), plt.yticks([])\n",
    "\n",
    "plt.show()"
   ]
  },
  {
   "cell_type": "markdown",
   "metadata": {},
   "source": [
    "## More about Filters "
   ]
  },
  {
   "cell_type": "markdown",
   "metadata": {},
   "source": [
    "### Gaussian Filter "
   ]
  },
  {
   "cell_type": "code",
   "execution_count": null,
   "metadata": {
    "collapsed": true
   },
   "outputs": [],
   "source": [
    "a = np.random.rand(100, 100)\n",
    "a*=100"
   ]
  },
  {
   "cell_type": "code",
   "execution_count": null,
   "metadata": {
    "collapsed": true
   },
   "outputs": [],
   "source": [
    "from scipy.ndimage.filters import gaussian_filter\n",
    "gauss = np.zeros((100,100))\n",
    "gaussian_filter(a, 2, output = gauss)"
   ]
  },
  {
   "cell_type": "code",
   "execution_count": null,
   "metadata": {},
   "outputs": [],
   "source": [
    "plt.matshow(a, cmap=plt.cm.gray)\n",
    "plt.matshow(gauss, cmap=plt.cm.gray)\n",
    "plt.show()"
   ]
  },
  {
   "cell_type": "markdown",
   "metadata": {},
   "source": [
    "### Sobel Filter (Horizontal and Vertical)"
   ]
  },
  {
   "cell_type": "code",
   "execution_count": null,
   "metadata": {},
   "outputs": [],
   "source": [
    "import cv2\n",
    "import numpy as np\n",
    "from matplotlib import pyplot as plt\n",
    "\n",
    "img = cv2.imread('images/sudoku.jpg',0)\n",
    "\n",
    "laplacian = cv2.Laplacian(img,cv2.CV_64F)\n",
    "sobelx = cv2.Sobel(img,cv2.CV_64F,1,0,ksize=5)\n",
    "sobely = cv2.Sobel(img,cv2.CV_64F,0,1,ksize=5)\n",
    " \n",
    "plt.subplot(2,2,1),plt.imshow(img,cmap = 'gray')\n",
    "plt.title('Original'), plt.xticks([]), plt.yticks([])\n",
    "plt.subplot(2,2,2),plt.imshow(laplacian,cmap = 'gray')\n",
    "plt.title('Laplacian'), plt.xticks([]), plt.yticks([])\n",
    "plt.subplot(2,2,3),plt.imshow(sobelx,cmap = 'gray')\n",
    "plt.title('Sobel X'), plt.xticks([]), plt.yticks([])\n",
    "plt.subplot(2,2,4),plt.imshow(sobely,cmap = 'gray')\n",
    "plt.title('Sobel Y'), plt.xticks([]), plt.yticks([])\n",
    "\n",
    "plt.show()"
   ]
  },
  {
   "cell_type": "markdown",
   "metadata": {},
   "source": [
    "## Advanced: More about Convolution and Thresholding"
   ]
  },
  {
   "cell_type": "markdown",
   "metadata": {},
   "source": [
    "We can use threshold mask as a tool to detec object"
   ]
  },
  {
   "cell_type": "code",
   "execution_count": null,
   "metadata": {
    "collapsed": true
   },
   "outputs": [],
   "source": [
    "import numpy as np\n",
    "import scipy as sp\n",
    "from matplotlib import pyplot as plt"
   ]
  },
  {
   "cell_type": "code",
   "execution_count": null,
   "metadata": {
    "collapsed": true
   },
   "outputs": [],
   "source": [
    "import numpy as np\n",
    "a = np.zeros((100, 100))"
   ]
  },
  {
   "cell_type": "code",
   "execution_count": null,
   "metadata": {
    "collapsed": true
   },
   "outputs": [],
   "source": [
    "l_mat = np.zeros((5, 5))\n",
    "l_map = [(1, 2), (2, 2), (3, 2), (3, 3)]\n",
    "for (i,j) in l_map :\n",
    "    l_mat[i][j]=100"
   ]
  },
  {
   "cell_type": "code",
   "execution_count": null,
   "metadata": {},
   "outputs": [],
   "source": [
    "plt.matshow(l_mat, cmap=plt.cm.gray)\n",
    "plt.show()"
   ]
  },
  {
   "cell_type": "code",
   "execution_count": null,
   "metadata": {
    "collapsed": true
   },
   "outputs": [],
   "source": [
    "for i in range(30) :\n",
    "    x = int(np.random.random()*94)\n",
    "    y = int(np.random.random()*94)\n",
    "    for p in range(l_mat.shape[0]) :\n",
    "        for q in range(l_mat.shape[1]) :\n",
    "            if(l_mat[p][q]!=0):\n",
    "                a[x+p][y+q]=l_mat[p][q]"
   ]
  },
  {
   "cell_type": "code",
   "execution_count": null,
   "metadata": {},
   "outputs": [],
   "source": [
    "plt.matshow(a, cmap=plt.cm.gray)\n",
    "#plt.matshow(a)\n",
    "plt.show()"
   ]
  },
  {
   "cell_type": "code",
   "execution_count": null,
   "metadata": {
    "collapsed": true
   },
   "outputs": [],
   "source": [
    "threshold = np.zeros((100, 100))\n",
    "for i in range(a.shape[0]) :\n",
    "    for j in range(a.shape[1]) :\n",
    "        if a[i][j] > 95 :\n",
    "            threshold[i][j]=100"
   ]
  },
  {
   "cell_type": "code",
   "execution_count": null,
   "metadata": {},
   "outputs": [],
   "source": [
    "plt.matshow(threshold, cmap=plt.cm.gray)\n",
    "plt.show()"
   ]
  },
  {
   "cell_type": "markdown",
   "metadata": {},
   "source": [
    "Convolution is a commonly use method in signal processing. Let's see how it work!"
   ]
  },
  {
   "cell_type": "code",
   "execution_count": null,
   "metadata": {
    "collapsed": true
   },
   "outputs": [],
   "source": [
    "from scipy import signal\n",
    "conv = signal.convolve2d(a, l_mat)"
   ]
  },
  {
   "cell_type": "code",
   "execution_count": null,
   "metadata": {},
   "outputs": [],
   "source": [
    "plt.matshow(conv, cmap=plt.cm.gray)\n",
    "plt.show()"
   ]
  },
  {
   "cell_type": "markdown",
   "metadata": {},
   "source": [
    "### With Noise"
   ]
  },
  {
   "cell_type": "markdown",
   "metadata": {},
   "source": [
    " It seem that adding convoluton is not that good than pure threshold method. \n",
    " However, in the real world, there are noise everywhere."
   ]
  },
  {
   "cell_type": "code",
   "execution_count": null,
   "metadata": {},
   "outputs": [],
   "source": [
    "noise = np.random.random(10000).reshape(100,100)\n",
    "noise *=100\n",
    "print noise"
   ]
  },
  {
   "cell_type": "code",
   "execution_count": null,
   "metadata": {},
   "outputs": [],
   "source": [
    "plt.matshow(noise, cmap=plt.cm.gray)\n",
    "plt.show()"
   ]
  },
  {
   "cell_type": "code",
   "execution_count": null,
   "metadata": {
    "collapsed": true
   },
   "outputs": [],
   "source": [
    "noise_a = np.add(noise,a)"
   ]
  },
  {
   "cell_type": "code",
   "execution_count": null,
   "metadata": {},
   "outputs": [],
   "source": [
    "plt.matshow(noise_a, vmax=100, cmap=plt.cm.gray)\n",
    "plt.show()"
   ]
  },
  {
   "cell_type": "markdown",
   "metadata": {},
   "source": [
    "### If we use pure threshold to detec the shape in a noise environment. How it goes?"
   ]
  },
  {
   "cell_type": "code",
   "execution_count": null,
   "metadata": {
    "collapsed": true
   },
   "outputs": [],
   "source": [
    "threshold = np.zeros((100, 100))\n",
    "for i in range(noise_a.shape[0]) :\n",
    "    for j in range(noise_a.shape[1]) :\n",
    "        if noise_a[i][j] > 98 :\n",
    "            threshold[i][j]=100"
   ]
  },
  {
   "cell_type": "code",
   "execution_count": null,
   "metadata": {},
   "outputs": [],
   "source": [
    "plt.matshow(threshold, vmax=100, cmap=plt.cm.gray)\n",
    "plt.show()"
   ]
  },
  {
   "cell_type": "markdown",
   "metadata": {},
   "source": [
    "### How about adding convolution for help?"
   ]
  },
  {
   "cell_type": "code",
   "execution_count": null,
   "metadata": {
    "collapsed": true
   },
   "outputs": [],
   "source": [
    "conv = signal.convolve2d(noise_a, l_mat)\n",
    "conv /= conv.max()\n",
    "threshold = np.zeros((100, 100))\n",
    "for i in range(100) :\n",
    "    for j in range(100) :\n",
    "        if conv[i][j] > 0.65 :\n",
    "            threshold[i][j]=100"
   ]
  },
  {
   "cell_type": "code",
   "execution_count": null,
   "metadata": {},
   "outputs": [],
   "source": [
    "plt.matshow(conv, cmap=plt.cm.gray)\n",
    "plt.matshow(threshold, cmap=plt.cm.gray)\n",
    "plt.matshow(a, cmap=plt.cm.gray)\n",
    "plt.show()"
   ]
  },
  {
   "cell_type": "code",
   "execution_count": null,
   "metadata": {
    "collapsed": true
   },
   "outputs": [],
   "source": []
  }
 ],
 "metadata": {
  "anaconda-cloud": {},
  "kernelspec": {
   "display_name": "Python 2",
   "language": "python",
   "name": "python2"
  },
  "language_info": {
   "codemirror_mode": {
    "name": "ipython",
    "version": 2
   },
   "file_extension": ".py",
   "mimetype": "text/x-python",
   "name": "python",
   "nbconvert_exporter": "python",
   "pygments_lexer": "ipython2",
   "version": "2.7.6"
  }
 },
 "nbformat": 4,
 "nbformat_minor": 1
}
